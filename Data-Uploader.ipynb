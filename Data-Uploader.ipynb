{
 "cells": [
  {
   "cell_type": "code",
   "execution_count": 15,
   "id": "d8bdf594",
   "metadata": {},
   "outputs": [],
   "source": [
    "from requests.auth import HTTPBasicAuth\n",
    "from elasticsearch import Elasticsearch, helpers\n",
    "\n",
    "import os, uuid"
   ]
  },
  {
   "cell_type": "code",
   "execution_count": 21,
   "id": "3d7f6c72",
   "metadata": {},
   "outputs": [],
   "source": [
    "\n",
    "\n",
    "ELASTIC_PASSWORD = \"KJTW3Ru946WN5VXenAVjEoIu\"\n",
    "ELASTIC_PASSWORD_LOCAL = \"TBtHmVu4ajOH5VRxdpYu\"\n",
    "LOCAL_ID = \"https://localhost:9200/\"\n",
    "\n",
    "JSONFILE = \"recipes-bulk.json\"\n",
    "INDEXNAME = \"recipes\"\n",
    "response = \"\""
   ]
  },
  {
   "cell_type": "code",
   "execution_count": 22,
   "id": "7a21bdca",
   "metadata": {},
   "outputs": [],
   "source": [
    "def getDataFromJsonFile(file_name):\n",
    "    file = open(file_name, encoding=\"utf8\", errors='ignore')\n",
    "    data = [line.strip() for line in file]\n",
    "    file.close()\n",
    "    return data\n",
    "\n",
    "def bulk_json_data(json_file, _index):\n",
    "    json_list = getDataFromJsonFile(json_file)\n",
    "    for doc in json_list:\n",
    "\n",
    "        if '{\"index\"' not in doc:\n",
    "            yield {\n",
    "                \"_index\": _index,\n",
    "                \"_id\": uuid.uuid4(),\n",
    "                \"_source\": doc\n",
    "            }\n"
   ]
  },
  {
   "cell_type": "code",
   "execution_count": 23,
   "id": "b32b14ef",
   "metadata": {},
   "outputs": [],
   "source": [
    "\n",
    "\n",
    "localCred = (\"elastic\", ELASTIC_PASSWORD_LOCAL)\n",
    "\n",
    "client = Elasticsearch(\n",
    "    LOCAL_ID,\n",
    "    basic_auth=localCred,\n",
    "    verify_certs=False,\n",
    "    http_auth=localCred\n",
    ")\n"
   ]
  },
  {
   "cell_type": "code",
   "execution_count": 24,
   "id": "91847746",
   "metadata": {},
   "outputs": [
    {
     "name": "stderr",
     "output_type": "stream",
     "text": [
      "C:\\Users\\NelsonWang\\anaconda3\\lib\\site-packages\\urllib3\\connectionpool.py:1043: InsecureRequestWarning: Unverified HTTPS request is being made to host 'localhost'. Adding certificate verification is strongly advised. See: https://urllib3.readthedocs.io/en/1.26.x/advanced-usage.html#ssl-warnings\n",
      "  warnings.warn(\n",
      "C:\\Users\\NelsonWang\\anaconda3\\lib\\site-packages\\urllib3\\connectionpool.py:1043: InsecureRequestWarning: Unverified HTTPS request is being made to host 'localhost'. Adding certificate verification is strongly advised. See: https://urllib3.readthedocs.io/en/1.26.x/advanced-usage.html#ssl-warnings\n",
      "  warnings.warn(\n"
     ]
    },
    {
     "name": "stdout",
     "output_type": "stream",
     "text": [
      "\n",
      "RESPONSE: (21, [])\n"
     ]
    }
   ],
   "source": [
    "\n",
    "try:\n",
    "    response = helpers.bulk(client, bulk_json_data(JSONFILE, INDEXNAME))\n",
    "except Exception as e:\n",
    "    print (\"\\error:\", e)\n",
    "print (\"\\nRESPONSE:\", response)"
   ]
  },
  {
   "cell_type": "code",
   "execution_count": null,
   "id": "e9de22a1",
   "metadata": {},
   "outputs": [],
   "source": []
  }
 ],
 "metadata": {
  "kernelspec": {
   "display_name": "Python 3 (ipykernel)",
   "language": "python",
   "name": "python3"
  },
  "language_info": {
   "codemirror_mode": {
    "name": "ipython",
    "version": 3
   },
   "file_extension": ".py",
   "mimetype": "text/x-python",
   "name": "python",
   "nbconvert_exporter": "python",
   "pygments_lexer": "ipython3",
   "version": "3.9.12"
  }
 },
 "nbformat": 4,
 "nbformat_minor": 5
}
